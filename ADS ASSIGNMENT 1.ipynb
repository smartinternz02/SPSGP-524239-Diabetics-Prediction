{
 "cells": [
  {
   "cell_type": "code",
   "execution_count": 1,
   "id": "97489c03",
   "metadata": {},
   "outputs": [
    {
     "ename": "SyntaxError",
     "evalue": "invalid syntax (1567107993.py, line 1)",
     "output_type": "error",
     "traceback": [
      "\u001b[0;36m  Cell \u001b[0;32mIn[1], line 1\u001b[0;36m\u001b[0m\n\u001b[0;31m    **BASKAR S**\u001b[0m\n\u001b[0m    ^\u001b[0m\n\u001b[0;31mSyntaxError\u001b[0m\u001b[0;31m:\u001b[0m invalid syntax\n"
     ]
    }
   ],
   "source": [
    "#1. Assign your Name to variable name and Age to variable age. \n",
    "#Make a Python program that prints your name and age.\n",
    "name=\"Baskar\"\n",
    "age=\"19\"\n",
    "print(\"The name of the person is \"+ name +\" and his age is \"+ age)"
   ]
  },
  {
   "cell_type": "code",
   "execution_count": 7,
   "id": "885c81cc",
   "metadata": {},
   "outputs": [
    {
     "name": "stdout",
     "output_type": "stream",
     "text": [
      "['Datascience', 'is', 'used', 'to', 'extract', 'meaningful', 'insights.']\n"
     ]
    }
   ],
   "source": [
    "#X=\"Datascience is used to extract meaningful insights.\" \n",
    "#Split the string\n",
    "X=\"Datascience is used to extract meaningful insights.\"\n",
    "split_text=X.split()\n",
    "print(split_text)"
   ]
  },
  {
   "cell_type": "code",
   "execution_count": 14,
   "id": "53026b4d",
   "metadata": {},
   "outputs": [
    {
     "name": "stdout",
     "output_type": "stream",
     "text": [
      "12\n"
     ]
    }
   ],
   "source": [
    "#Make a function that gives multiplication of two numbers\n",
    "def multiply(a,b):\n",
    "    c=a*b\n",
    "    print(c)\n",
    "    \n",
    "multiply(4,3)"
   ]
  },
  {
   "cell_type": "code",
   "execution_count": 18,
   "id": "34c0c816",
   "metadata": {},
   "outputs": [
    {
     "name": "stdout",
     "output_type": "stream",
     "text": [
      "{'Tamilnadu': 'Chennai', 'Karnataka': 'Banglore', 'Kerala': 'Thiruvananthapuram', 'Maharashtra': 'Mumbai', 'West Bengal': 'Kolkata'}\n",
      "dict_keys(['Tamilnadu', 'Karnataka', 'Kerala', 'Maharashtra', 'West Bengal'])\n",
      "dict_values(['Chennai', 'Banglore', 'Thiruvananthapuram', 'Mumbai', 'Kolkata'])\n"
     ]
    },
    {
     "data": {
      "text/plain": [
       "dict"
      ]
     },
     "execution_count": 18,
     "metadata": {},
     "output_type": "execute_result"
    }
   ],
   "source": [
    "#Create a Dictionary of 5 States with their capitals. also print the keys and values.\n",
    "states_capital={\"Tamilnadu\":\"Chennai\",\"Karnataka\":\"Banglore\",\"Kerala\":\"Thiruvananthapuram\",\n",
    "                \"Maharashtra\":\"Mumbai\",\"West Bengal\":\"Kolkata\"}\n",
    "print(states_capital)\n",
    "print(states_capital.keys())\n",
    "print(states_capital.values())\n",
    "type(states_capital)"
   ]
  },
  {
   "cell_type": "code",
   "execution_count": 17,
   "id": "75ecdbfc",
   "metadata": {},
   "outputs": [
    {
     "name": "stdout",
     "output_type": "stream",
     "text": [
      "[range(0, 1000)]\n"
     ]
    }
   ],
   "source": [
    "#Create a list of 1000 numbers using range function.\n",
    "list_nos = [range(1000)]\n",
    "list_nos\n",
    "no = list(list_nos)\n",
    "print(no)"
   ]
  },
  {
   "cell_type": "code",
   "execution_count": 19,
   "id": "bea33254",
   "metadata": {},
   "outputs": [
    {
     "name": "stdout",
     "output_type": "stream",
     "text": [
      "[[1. 0. 0. 0.]\n",
      " [0. 1. 0. 0.]\n",
      " [0. 0. 1. 0.]\n",
      " [0. 0. 0. 1.]]\n"
     ]
    }
   ],
   "source": [
    "#Create an identity matrix of dimension 4 by 4\n",
    "import numpy as np\n",
    "matrix = np.eye(4)\n",
    "print(matrix)"
   ]
  },
  {
   "cell_type": "code",
   "execution_count": 23,
   "id": "f0758d97",
   "metadata": {},
   "outputs": [
    {
     "data": {
      "text/plain": [
       "array([[5, 7, 5],\n",
       "       [3, 7, 1],\n",
       "       [1, 1, 7]])"
      ]
     },
     "execution_count": 23,
     "metadata": {},
     "output_type": "execute_result"
    }
   ],
   "source": [
    "#Create a 3x3 matrix with values ranging from 1 to 9\n",
    "array1 = np.array([np.random.randint(1,9),np.random.randint(1,9),np.random.randint(1,9)])\n",
    "array2 = np.array([np.random.randint(1,9),np.random.randint(1,9),np.random.randint(1,9)])\n",
    "array3 = np.array([np.random.randint(1,9),np.random.randint(1,9),np.random.randint(1,9)])\n",
    "# matrix = np.arange(1,10).reshape(3,3)\n",
    "matrix = np.array([array1,array2,array3])\n",
    "matrix"
   ]
  },
  {
   "cell_type": "code",
   "execution_count": 21,
   "id": "0f0e310c",
   "metadata": {},
   "outputs": [
    {
     "name": "stdout",
     "output_type": "stream",
     "text": [
      "{'Brand': ['Maruti', 'Renault', 'Hyndai'], 'Sales': [250, 200, 240]}\n",
      "-------------------------------------------------------------------------\n",
      "     Brand  Sales\n",
      "0   Maruti    250\n",
      "1  Renault    200\n",
      "2   Hyndai    240\n"
     ]
    }
   ],
   "source": [
    "#Given a dictionary, convert it into corresponding dataframe and display it\n",
    "#dictionary = {'Brand': ['Maruti', 'Renault', 'Hyndai'], 'Sales' : [250, 200, 240]}\n",
    "import pandas as pd\n",
    "dictionary = {'Brand': ['Maruti', 'Renault', 'Hyndai'], 'Sales' : [250, 200, 240]}\n",
    "conversion = pd.DataFrame(dictionary)\n",
    "print(dictionary)\n",
    "print(\"-------------------------------------------------------------------------\")\n",
    "print(conversion)"
   ]
  },
  {
   "cell_type": "code",
   "execution_count": 22,
   "id": "1dc25ec8",
   "metadata": {},
   "outputs": [
    {
     "name": "stdout",
     "output_type": "stream",
     "text": [
      "DatetimeIndex(['2023-02-01', '2023-02-02', '2023-02-03', '2023-02-04',\n",
      "               '2023-02-05', '2023-02-06', '2023-02-07', '2023-02-08',\n",
      "               '2023-02-09', '2023-02-10', '2023-02-11', '2023-02-12',\n",
      "               '2023-02-13', '2023-02-14', '2023-02-15', '2023-02-16',\n",
      "               '2023-02-17', '2023-02-18', '2023-02-19', '2023-02-20',\n",
      "               '2023-02-21', '2023-02-22', '2023-02-23', '2023-02-24',\n",
      "               '2023-02-25', '2023-02-26', '2023-02-27', '2023-02-28',\n",
      "               '2023-03-01'],\n",
      "              dtype='datetime64[ns]', freq='D')\n",
      "['2023-02-01', '2023-02-02', '2023-02-03', '2023-02-04', '2023-02-05', '2023-02-06', '2023-02-07', '2023-02-08', '2023-02-09', '2023-02-10', '2023-02-11', '2023-02-12', '2023-02-13', '2023-02-14', '2023-02-15', '2023-02-16', '2023-02-17', '2023-02-18', '2023-02-19', '2023-02-20', '2023-02-21', '2023-02-22', '2023-02-23', '2023-02-24', '2023-02-25', '2023-02-26', '2023-02-27', '2023-02-28', '2023-03-01']\n"
     ]
    },
    {
     "name": "stderr",
     "output_type": "stream",
     "text": [
      "/var/folders/q2/zp9bvrzd1v1gkt9fcfqkdnjm0000gn/T/ipykernel_11708/26838800.py:2: FutureWarning: Argument `closed` is deprecated in favor of `inclusive`.\n",
      "  date_series = pd.date_range(start='2023-02-01', end='2023-03-02',closed='left')\n"
     ]
    }
   ],
   "source": [
    "#Generate the series of dates from 1st Feb, 2023 to 1st March, 2023 (both inclusive)\n",
    "# series_month = pd.Series(np.random.rand('2023-02-01'),('2023-03-02'))\n",
    "date_series = pd.date_range(start='2023-02-01', end='2023-03-02',closed='left')\n",
    "print(date_series)\n",
    "date_list = date_series.strftime(\"%Y-%m-%d\").tolist()\n",
    "print(date_list)"
   ]
  },
  {
   "cell_type": "code",
   "execution_count": null,
   "id": "7863cc86",
   "metadata": {},
   "outputs": [],
   "source": [
    "#Create 2 similar dimensional array and perform sum on them.\n",
    "array1=np.array([10,50,100,150,200])\n",
    "array2=np.array([20,30,70,80,100])\n",
    "array3=(array1+array2)\n",
    "print(np.ndim(array1))\n",
    "print(np.ndim(array2))\n",
    "print(array3)"
   ]
  }
 ],
 "metadata": {
  "kernelspec": {
   "display_name": "Python 3 (ipykernel)",
   "language": "python",
   "name": "python3"
  },
  "language_info": {
   "codemirror_mode": {
    "name": "ipython",
    "version": 3
   },
   "file_extension": ".py",
   "mimetype": "text/x-python",
   "name": "python",
   "nbconvert_exporter": "python",
   "pygments_lexer": "ipython3",
   "version": "3.10.9"
  }
 },
 "nbformat": 4,
 "nbformat_minor": 5
}
